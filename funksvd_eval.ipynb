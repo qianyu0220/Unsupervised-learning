{
 "cells": [
  {
   "cell_type": "markdown",
   "id": "261f4d4f9b81556c",
   "metadata": {},
   "source": [
    "# Creating a Test Dataset for FunkSVD Evaluation\n",
    "Evaluating SVD type models can be challenging because they are unsupervised. However, when used in recommendation engines, we can connect the outputs to target values and measure performance, effectively evaluating unsupervised training through a supervised outcome.\n",
    "\n",
    "In this notebook, we'll create a test set for the FunkSVD model using held-out movie ratings. First, we'll use the reviews data to create a user-by-movie matrix. Then, we'll use this matrix to create training and test sets. The training set will be used to train the FunkSVD model, and we'll make predictions to evaluate the model with our held-out test set. By trying different numbers of latent features, we'll see how this choice affects model performance.\n",
    "\n",
    "\n"
   ]
  },
  {
   "cell_type": "markdown",
   "id": "7292d297a2ab490a",
   "metadata": {},
   "source": [
    "## Setup and Load Data"
   ]
  },
  {
   "cell_type": "code",
   "execution_count": 1,
   "id": "initial_id",
   "metadata": {},
   "outputs": [],
   "source": [
    "import numpy as np\n",
    "import pandas as pd\n",
    "import matplotlib.pyplot as plt"
   ]
  },
  {
   "cell_type": "code",
   "execution_count": 2,
   "id": "4df5497436928ff0",
   "metadata": {},
   "outputs": [
    {
     "name": "stdout",
     "output_type": "stream",
     "text": [
      "Data dimensions: (100001, 5)\n"
     ]
    }
   ],
   "source": [
    "# Load the reviews_clean.csv dataset\n",
    "reviews_df = pd.read_csv(\"reviews_clean.csv\")\n",
    "print(\"Data dimensions:\", reviews_df.shape)"
   ]
  },
  {
   "cell_type": "code",
   "execution_count": 3,
   "id": "ec29c69a7cb762d",
   "metadata": {},
   "outputs": [
    {
     "data": {
      "text/html": [
       "<div>\n",
       "<style scoped>\n",
       "    .dataframe tbody tr th:only-of-type {\n",
       "        vertical-align: middle;\n",
       "    }\n",
       "\n",
       "    .dataframe tbody tr th {\n",
       "        vertical-align: top;\n",
       "    }\n",
       "\n",
       "    .dataframe thead th {\n",
       "        text-align: right;\n",
       "    }\n",
       "</style>\n",
       "<table border=\"1\" class=\"dataframe\">\n",
       "  <thead>\n",
       "    <tr style=\"text-align: right;\">\n",
       "      <th></th>\n",
       "      <th>user_id</th>\n",
       "      <th>movie_id</th>\n",
       "      <th>rating</th>\n",
       "      <th>timestamp</th>\n",
       "      <th>date</th>\n",
       "    </tr>\n",
       "  </thead>\n",
       "  <tbody>\n",
       "    <tr>\n",
       "      <th>0</th>\n",
       "      <td>1</td>\n",
       "      <td>114508</td>\n",
       "      <td>8</td>\n",
       "      <td>1381006850</td>\n",
       "      <td>2013-10-05 14:00:50</td>\n",
       "    </tr>\n",
       "    <tr>\n",
       "      <th>1</th>\n",
       "      <td>2</td>\n",
       "      <td>208092</td>\n",
       "      <td>5</td>\n",
       "      <td>1586466072</td>\n",
       "      <td>2020-04-09 14:01:12</td>\n",
       "    </tr>\n",
       "    <tr>\n",
       "      <th>2</th>\n",
       "      <td>2</td>\n",
       "      <td>358273</td>\n",
       "      <td>9</td>\n",
       "      <td>1579057827</td>\n",
       "      <td>2020-01-14 19:10:27</td>\n",
       "    </tr>\n",
       "    <tr>\n",
       "      <th>3</th>\n",
       "      <td>2</td>\n",
       "      <td>10039344</td>\n",
       "      <td>5</td>\n",
       "      <td>1578603053</td>\n",
       "      <td>2020-01-09 12:50:53</td>\n",
       "    </tr>\n",
       "    <tr>\n",
       "      <th>4</th>\n",
       "      <td>2</td>\n",
       "      <td>6751668</td>\n",
       "      <td>9</td>\n",
       "      <td>1578955697</td>\n",
       "      <td>2020-01-13 14:48:17</td>\n",
       "    </tr>\n",
       "  </tbody>\n",
       "</table>\n",
       "</div>"
      ],
      "text/plain": [
       "   user_id  movie_id  rating   timestamp                 date\n",
       "0        1    114508       8  1381006850  2013-10-05 14:00:50\n",
       "1        2    208092       5  1586466072  2020-04-09 14:01:12\n",
       "2        2    358273       9  1579057827  2020-01-14 19:10:27\n",
       "3        2  10039344       5  1578603053  2020-01-09 12:50:53\n",
       "4        2   6751668       9  1578955697  2020-01-13 14:48:17"
      ]
     },
     "execution_count": 3,
     "metadata": {},
     "output_type": "execute_result"
    }
   ],
   "source": [
    "reviews_df.head()"
   ]
  },
  {
   "cell_type": "markdown",
   "id": "95b48caf9f4eef7c",
   "metadata": {},
   "source": [
    "## Create the FunkSVD Function\n",
    "This is created for you, which you'll notice is very similar to the function you created in the previous lessons. The main difference is that this function will output the mean squared error for the training set if you set the output_mse to True. It also returns a list of mean squared errors at each iteration so we can plot them."
   ]
  },
  {
   "cell_type": "code",
   "execution_count": 4,
   "id": "2e1617fbfe631d8d",
   "metadata": {},
   "outputs": [],
   "source": [
    "def FunkSVD(\n",
    "    ratings_mat, latent_features=4, learning_rate=0.0001, iters=100, output_mse=False\n",
    "):\n",
    "    \"\"\"\n",
    "    This function performs matrix factorization using a basic form of FunkSVD with no regularization\n",
    "\n",
    "    INPUT:\n",
    "    ratings_mat - (numpy array) a matrix with users as rows, movies as columns, and ratings as values\n",
    "    latent_features - (int) the number of latent features used\n",
    "    learning_rate - (float) the learning rate\n",
    "    iters - (int) the number of iterations\n",
    "\n",
    "    OUTPUT:\n",
    "    user_mat - (numpy array) a user by latent feature matrix\n",
    "    movie_mat - (numpy array) a latent feature by movie matrix\n",
    "    mse_scores - (list) list of mean squared errors at each iteration\n",
    "    \"\"\"\n",
    "\n",
    "    # Set up useful values to be used through the rest of the function\n",
    "    n_users = ratings_mat.shape[0]\n",
    "    n_movies = ratings_mat.shape[1]\n",
    "    num_ratings = np.count_nonzero(~np.isnan(ratings_mat))\n",
    "    mse_scores = []\n",
    "\n",
    "    # initialize the user and movie matrices with random values\n",
    "    user_mat = np.random.rand(n_users, latent_features)\n",
    "    movie_mat = np.random.rand(latent_features, n_movies)\n",
    "\n",
    "    # initialize sse at 0 for first iteration\n",
    "    sse_accum = 0\n",
    "\n",
    "    if output_mse:\n",
    "        # keep track of iteration and MSE\n",
    "        print(\"Optimization Statistics\")\n",
    "        print(\"Iterations | Mean Squared Error \")\n",
    "\n",
    "    # for each iteration\n",
    "    for iteration in range(iters):\n",
    "\n",
    "        # update our sse\n",
    "        old_sse = sse_accum\n",
    "        sse_accum = 0\n",
    "\n",
    "        # For each user-movie pair\n",
    "        for i in range(n_users):\n",
    "            for j in range(n_movies):\n",
    "\n",
    "                # if the rating exists\n",
    "                if ratings_mat[i, j] > 0:\n",
    "\n",
    "                    # compute the error as the actual minus the dot product of the user and movie latent features\n",
    "                    diff = ratings_mat[i, j] - np.dot(user_mat[i, :], movie_mat[:, j])\n",
    "\n",
    "                    # Keep track of the sum of squared errors for the matrix\n",
    "                    sse_accum += diff**2\n",
    "\n",
    "                    # update the values in each matrix in the direction of the gradient\n",
    "                    for k in range(latent_features):\n",
    "                        user_mat[i, k] += learning_rate * (2 * diff * movie_mat[k, j])\n",
    "                        movie_mat[k, j] += learning_rate * (2 * diff * user_mat[i, k])\n",
    "        mse = sse_accum / num_ratings\n",
    "        mse_scores.append(mse)\n",
    "        # print results\n",
    "        if output_mse:\n",
    "            print(\"%d \\t\\t %f\" % (iteration + 1, mse))\n",
    "\n",
    "    return user_mat, movie_mat, mse_scores"
   ]
  },
  {
   "cell_type": "markdown",
   "id": "3820d3e6a653d2c",
   "metadata": {},
   "source": [
    "## Create User-By-Movie Matrix"
   ]
  },
  {
   "cell_type": "code",
   "execution_count": 9,
   "id": "a27ac88c843a94dd",
   "metadata": {},
   "outputs": [],
   "source": [
    "# Create a user_items subset and a user-by-item matrix\n",
    "# User items subset should container user_id, movie_id, rating, and timestamp\n",
    "user_items = reviews_df[['user_id', 'movie_id', 'rating', 'timestamp']]\n",
    "# Create the user by movie matrix by grouping the user items by user_id and movie_id and getting the maximum rating\n",
    "user_by_movie = user_items.groupby(['user_id', 'movie_id'])['rating'].max().unstack()"
   ]
  },
  {
   "cell_type": "code",
   "execution_count": 10,
   "id": "b56e68c09355cc3f",
   "metadata": {},
   "outputs": [
    {
     "name": "stdout",
     "output_type": "stream",
     "text": [
      "Number of users: 8022\n",
      "Number of movies: 13850\n"
     ]
    }
   ],
   "source": [
    "# Assign the number of unique users and movies\n",
    "n_users = user_by_movie.shape[0]\n",
    "n_movies = user_by_movie.shape[1]\n",
    "print(f\"Number of users: {n_users}\")\n",
    "print(f\"Number of movies: {n_movies}\")"
   ]
  },
  {
   "cell_type": "code",
   "execution_count": 11,
   "id": "e118dadfe181eaf7",
   "metadata": {},
   "outputs": [],
   "source": [
    "# Running FunkSVD on this large dataset is computationally expensive. Let's just keep the top 1000 most rated movies.\n",
    "# Truncate the user by movie matrix to only include the top 1000 most rated movies\n",
    "top_movies = user_by_movie.count().sort_values(ascending=False).index[:1000]\n",
    "user_by_movie = user_by_movie.loc[:, top_movies]"
   ]
  },
  {
   "cell_type": "code",
   "execution_count": 12,
   "id": "6eacfb3d33106cc",
   "metadata": {},
   "outputs": [],
   "source": [
    "# Drop users that have not seen any movies, we're not trying to solve for them\n",
    "# You can do this by filtering the user by movie matrix to only include users that have rated more than 0 movies\n",
    "user_by_movie = user_by_movie.loc[user_by_movie.sum(axis=1) > 0]"
   ]
  },
  {
   "cell_type": "code",
   "execution_count": 13,
   "id": "768fe33dfb27b7c",
   "metadata": {},
   "outputs": [
    {
     "name": "stdout",
     "output_type": "stream",
     "text": [
      "Final number of users: 6643\n",
      "Final number of movies: 1000\n"
     ]
    }
   ],
   "source": [
    "print(f\"Final number of users: {user_by_movie.shape[0]}\")\n",
    "print(f\"Final number of movies: {user_by_movie.shape[1]}\")"
   ]
  },
  {
   "cell_type": "code",
   "execution_count": 14,
   "id": "9e3d26e16fe8afff",
   "metadata": {},
   "outputs": [
    {
     "data": {
      "text/html": [
       "<div>\n",
       "<style scoped>\n",
       "    .dataframe tbody tr th:only-of-type {\n",
       "        vertical-align: middle;\n",
       "    }\n",
       "\n",
       "    .dataframe tbody tr th {\n",
       "        vertical-align: top;\n",
       "    }\n",
       "\n",
       "    .dataframe thead th {\n",
       "        text-align: right;\n",
       "    }\n",
       "</style>\n",
       "<table border=\"1\" class=\"dataframe\">\n",
       "  <thead>\n",
       "    <tr style=\"text-align: right;\">\n",
       "      <th>movie_id</th>\n",
       "      <th>1454468</th>\n",
       "      <th>8579674</th>\n",
       "      <th>993846</th>\n",
       "      <th>7286456</th>\n",
       "      <th>816692</th>\n",
       "      <th>770828</th>\n",
       "      <th>1300854</th>\n",
       "      <th>1535109</th>\n",
       "      <th>1670345</th>\n",
       "      <th>816711</th>\n",
       "      <th>...</th>\n",
       "      <th>1389137</th>\n",
       "      <th>4540710</th>\n",
       "      <th>2378281</th>\n",
       "      <th>1691917</th>\n",
       "      <th>1723811</th>\n",
       "      <th>382932</th>\n",
       "      <th>45152</th>\n",
       "      <th>936501</th>\n",
       "      <th>1385826</th>\n",
       "      <th>145487</th>\n",
       "    </tr>\n",
       "    <tr>\n",
       "      <th>user_id</th>\n",
       "      <th></th>\n",
       "      <th></th>\n",
       "      <th></th>\n",
       "      <th></th>\n",
       "      <th></th>\n",
       "      <th></th>\n",
       "      <th></th>\n",
       "      <th></th>\n",
       "      <th></th>\n",
       "      <th></th>\n",
       "      <th></th>\n",
       "      <th></th>\n",
       "      <th></th>\n",
       "      <th></th>\n",
       "      <th></th>\n",
       "      <th></th>\n",
       "      <th></th>\n",
       "      <th></th>\n",
       "      <th></th>\n",
       "      <th></th>\n",
       "      <th></th>\n",
       "    </tr>\n",
       "  </thead>\n",
       "  <tbody>\n",
       "    <tr>\n",
       "      <th>2</th>\n",
       "      <td>NaN</td>\n",
       "      <td>10.0</td>\n",
       "      <td>NaN</td>\n",
       "      <td>NaN</td>\n",
       "      <td>NaN</td>\n",
       "      <td>NaN</td>\n",
       "      <td>NaN</td>\n",
       "      <td>NaN</td>\n",
       "      <td>NaN</td>\n",
       "      <td>NaN</td>\n",
       "      <td>...</td>\n",
       "      <td>NaN</td>\n",
       "      <td>NaN</td>\n",
       "      <td>NaN</td>\n",
       "      <td>NaN</td>\n",
       "      <td>NaN</td>\n",
       "      <td>NaN</td>\n",
       "      <td>NaN</td>\n",
       "      <td>NaN</td>\n",
       "      <td>NaN</td>\n",
       "      <td>NaN</td>\n",
       "    </tr>\n",
       "    <tr>\n",
       "      <th>3</th>\n",
       "      <td>NaN</td>\n",
       "      <td>NaN</td>\n",
       "      <td>NaN</td>\n",
       "      <td>NaN</td>\n",
       "      <td>NaN</td>\n",
       "      <td>NaN</td>\n",
       "      <td>NaN</td>\n",
       "      <td>NaN</td>\n",
       "      <td>NaN</td>\n",
       "      <td>NaN</td>\n",
       "      <td>...</td>\n",
       "      <td>NaN</td>\n",
       "      <td>NaN</td>\n",
       "      <td>NaN</td>\n",
       "      <td>NaN</td>\n",
       "      <td>NaN</td>\n",
       "      <td>NaN</td>\n",
       "      <td>NaN</td>\n",
       "      <td>NaN</td>\n",
       "      <td>NaN</td>\n",
       "      <td>NaN</td>\n",
       "    </tr>\n",
       "    <tr>\n",
       "      <th>4</th>\n",
       "      <td>NaN</td>\n",
       "      <td>NaN</td>\n",
       "      <td>NaN</td>\n",
       "      <td>NaN</td>\n",
       "      <td>NaN</td>\n",
       "      <td>NaN</td>\n",
       "      <td>NaN</td>\n",
       "      <td>NaN</td>\n",
       "      <td>NaN</td>\n",
       "      <td>NaN</td>\n",
       "      <td>...</td>\n",
       "      <td>NaN</td>\n",
       "      <td>NaN</td>\n",
       "      <td>NaN</td>\n",
       "      <td>NaN</td>\n",
       "      <td>NaN</td>\n",
       "      <td>NaN</td>\n",
       "      <td>NaN</td>\n",
       "      <td>NaN</td>\n",
       "      <td>NaN</td>\n",
       "      <td>NaN</td>\n",
       "    </tr>\n",
       "    <tr>\n",
       "      <th>5</th>\n",
       "      <td>NaN</td>\n",
       "      <td>NaN</td>\n",
       "      <td>NaN</td>\n",
       "      <td>NaN</td>\n",
       "      <td>NaN</td>\n",
       "      <td>NaN</td>\n",
       "      <td>NaN</td>\n",
       "      <td>NaN</td>\n",
       "      <td>NaN</td>\n",
       "      <td>NaN</td>\n",
       "      <td>...</td>\n",
       "      <td>NaN</td>\n",
       "      <td>NaN</td>\n",
       "      <td>NaN</td>\n",
       "      <td>NaN</td>\n",
       "      <td>NaN</td>\n",
       "      <td>NaN</td>\n",
       "      <td>NaN</td>\n",
       "      <td>NaN</td>\n",
       "      <td>NaN</td>\n",
       "      <td>NaN</td>\n",
       "    </tr>\n",
       "    <tr>\n",
       "      <th>6</th>\n",
       "      <td>NaN</td>\n",
       "      <td>NaN</td>\n",
       "      <td>NaN</td>\n",
       "      <td>NaN</td>\n",
       "      <td>NaN</td>\n",
       "      <td>NaN</td>\n",
       "      <td>NaN</td>\n",
       "      <td>NaN</td>\n",
       "      <td>NaN</td>\n",
       "      <td>NaN</td>\n",
       "      <td>...</td>\n",
       "      <td>NaN</td>\n",
       "      <td>NaN</td>\n",
       "      <td>8.0</td>\n",
       "      <td>NaN</td>\n",
       "      <td>NaN</td>\n",
       "      <td>NaN</td>\n",
       "      <td>NaN</td>\n",
       "      <td>NaN</td>\n",
       "      <td>NaN</td>\n",
       "      <td>NaN</td>\n",
       "    </tr>\n",
       "  </tbody>\n",
       "</table>\n",
       "<p>5 rows × 1000 columns</p>\n",
       "</div>"
      ],
      "text/plain": [
       "movie_id  1454468  8579674  993846   7286456  816692   770828   1300854  \\\n",
       "user_id                                                                   \n",
       "2             NaN     10.0      NaN      NaN      NaN      NaN      NaN   \n",
       "3             NaN      NaN      NaN      NaN      NaN      NaN      NaN   \n",
       "4             NaN      NaN      NaN      NaN      NaN      NaN      NaN   \n",
       "5             NaN      NaN      NaN      NaN      NaN      NaN      NaN   \n",
       "6             NaN      NaN      NaN      NaN      NaN      NaN      NaN   \n",
       "\n",
       "movie_id  1535109  1670345  816711   ...  1389137  4540710  2378281  1691917  \\\n",
       "user_id                              ...                                       \n",
       "2             NaN      NaN      NaN  ...      NaN      NaN      NaN      NaN   \n",
       "3             NaN      NaN      NaN  ...      NaN      NaN      NaN      NaN   \n",
       "4             NaN      NaN      NaN  ...      NaN      NaN      NaN      NaN   \n",
       "5             NaN      NaN      NaN  ...      NaN      NaN      NaN      NaN   \n",
       "6             NaN      NaN      NaN  ...      NaN      NaN      8.0      NaN   \n",
       "\n",
       "movie_id  1723811  382932   45152    936501   1385826  145487   \n",
       "user_id                                                         \n",
       "2             NaN      NaN      NaN      NaN      NaN      NaN  \n",
       "3             NaN      NaN      NaN      NaN      NaN      NaN  \n",
       "4             NaN      NaN      NaN      NaN      NaN      NaN  \n",
       "5             NaN      NaN      NaN      NaN      NaN      NaN  \n",
       "6             NaN      NaN      NaN      NaN      NaN      NaN  \n",
       "\n",
       "[5 rows x 1000 columns]"
      ]
     },
     "execution_count": 14,
     "metadata": {},
     "output_type": "execute_result"
    }
   ],
   "source": [
    "# Look at the first few rows and columns of the matrix, it's very sparse\n",
    "user_by_movie.head()"
   ]
  },
  {
   "cell_type": "code",
   "execution_count": 16,
   "id": "b58f6a0e63d63652",
   "metadata": {},
   "outputs": [
    {
     "name": "stdout",
     "output_type": "stream",
     "text": [
      "Optimization Statistics\n",
      "Iterations | Mean Squared Error \n",
      "1 \t\t 26.285425\n",
      "2 \t\t 11.440372\n",
      "3 \t\t 7.522753\n",
      "4 \t\t 5.648535\n",
      "5 \t\t 4.592547\n",
      "6 \t\t 3.923623\n",
      "7 \t\t 3.466053\n",
      "8 \t\t 3.135683\n",
      "9 \t\t 2.887155\n",
      "10 \t\t 2.693981\n",
      "11 \t\t 2.539772\n",
      "12 \t\t 2.413926\n",
      "13 \t\t 2.309325\n",
      "14 \t\t 2.221038\n",
      "15 \t\t 2.145550\n",
      "16 \t\t 2.080290\n",
      "17 \t\t 2.023337\n",
      "18 \t\t 1.973223\n",
      "19 \t\t 1.928805\n",
      "20 \t\t 1.889182\n",
      "21 \t\t 1.853629\n",
      "22 \t\t 1.821556\n",
      "23 \t\t 1.792479\n",
      "24 \t\t 1.765995\n",
      "25 \t\t 1.741768\n"
     ]
    }
   ],
   "source": [
    "# Run the FunkSVD function on the user by movie matrix, with 5 latent features, 0.001 learning rate, and 25 iterations\n",
    "# Don't forget to convert the user_by_movie matrix to a numpy array for the FunkSVD function using this np.matrix() function\n",
    "user_mat, movie_mat, mse_scores = FunkSVD(\n",
    "    np.matrix(user_by_movie), \n",
    "    latent_features=5, \n",
    "    learning_rate=0.001, \n",
    "    iters=25, \n",
    "    output_mse=True,\n",
    ")"
   ]
  },
  {
   "cell_type": "code",
   "execution_count": 17,
   "id": "936832dffc4e693b",
   "metadata": {},
   "outputs": [
    {
     "data": {
      "text/plain": [
       "Text(0.5, 1.0, 'Mean Squared Error vs. Iterations')"
      ]
     },
     "execution_count": 17,
     "metadata": {},
     "output_type": "execute_result"
    },
    {
     "data": {
      "image/png": "[encoded data removed]",
      "text/plain": [
       "<Figure size 640x480 with 1 Axes>"
      ]
     },
     "metadata": {},
     "output_type": "display_data"
    }
   ],
   "source": [
    "# Plot mse scores\n",
    "plt.plot(mse_scores)\n",
    "plt.xlabel(\"Iterations\")\n",
    "plt.ylabel(\"Mean Squared Error\")\n",
    "plt.title(\"Mean Squared Error vs. Iterations\")"
   ]
  },
  {
   "cell_type": "code",
   "execution_count": 18,
   "id": "ab3430b495680931",
   "metadata": {},
   "outputs": [
    {
     "data": {
      "text/plain": [
       "array([[ 8.21092979,  8.18701023,  7.77645018,  8.29562202,  8.31983092],\n",
       "       [ 7.37020974,  8.96415052,  8.59972377,  9.42574441,  8.64420734],\n",
       "       [ 9.4436821 , 10.53474368,  9.64347778, 10.57447637, 10.22074262],\n",
       "       [ 7.20377356,  7.97575501,  7.54272015,  8.18332113,  7.82558322],\n",
       "       [ 8.32173992,  9.736691  ,  8.75770607,  9.84617544,  9.24488401]])"
      ]
     },
     "execution_count": 18,
     "metadata": {},
     "output_type": "execute_result"
    }
   ],
   "source": [
    "# Let's take a look at the user_mat and movie_mat matrices\n",
    "pred_user_by_movie = np.dot(user_mat, movie_mat)\n",
    "pred_user_by_movie[:5, :5]"
   ]
  },
  {
   "cell_type": "markdown",
   "id": "3bf75c56f5215ace",
   "metadata": {},
   "source": [
    "## Create Train and Test Sets\n",
    "It's now time to create our train set and hold out test set. To create our hypothetical test set, we will take a subset of users that have seen many movies, randomly select a few movies per user, and set them aside to be in our test set. The remaining movies per user will be our training set. Think of this as a simulation of a scenario where we have users that have rated many movies, and we want to see how well we can predict their ratings on a few additional movies. "
   ]
  },
  {
   "cell_type": "code",
   "execution_count": 19,
   "id": "9f77f8f823d965c3",
   "metadata": {},
   "outputs": [
    {
     "name": "stdout",
     "output_type": "stream",
     "text": [
      "Size of the subset: (60384, 5)\n"
     ]
    }
   ],
   "source": [
    "# Create a subset of the reviews data that only include the movies and users in the user by movie matrix. Remember we only selected the top 1000 movies.\n",
    "# Find the movies from reviews_df that are in the user by movie matrix\n",
    "sub_movies = reviews_df.movie_id.isin(user_by_movie.columns)\n",
    "# Find the users from reviews_df that are in the user by movie matrix\n",
    "sub_users = reviews_df.user_id.isin(user_by_movie.index)\n",
    "sub_reviews_df = reviews_df[sub_movies & sub_users]\n",
    "# Size of the subset\n",
    "print(f\"Size of the subset: {sub_reviews_df.shape}\")"
   ]
  },
  {
   "cell_type": "code",
   "execution_count": 20,
   "id": "f6b24a8023085fa8",
   "metadata": {},
   "outputs": [
    {
     "name": "stdout",
     "output_type": "stream",
     "text": [
      "Number of users with more than 5 ratings: 1836\n"
     ]
    }
   ],
   "source": [
    "# Select users that have rated more than 5 movies, as we'll hold out a few of them but still want to train on the rest\n",
    "# Find the value counts of user_id in the subset\n",
    "user_counts = sub_reviews_df.user_id.value_counts()\n",
    "users_with_enough_ratings = user_counts[user_counts > 5].index.tolist()\n",
    "print(f\"Number of users with more than 5 ratings: {len(users_with_enough_ratings)}\")"
   ]
  },
  {
   "cell_type": "code",
   "execution_count": 21,
   "id": "1a9aeaca24ab7d0",
   "metadata": {},
   "outputs": [
    {
     "name": "stdout",
     "output_type": "stream",
     "text": [
      "Train set size: (56712, 5)\n",
      "Test set size: (3672, 5)\n"
     ]
    }
   ],
   "source": [
    "# Create a test set by randomly selecting 2 movies per user to include in our test set\n",
    "test = (\n",
    "    sub_reviews_df[sub_reviews_df.user_id.isin(users_with_enough_ratings)]\n",
    "    .groupby(\"user_id\")\n",
    "    .sample(2, random_state=42)\n",
    ")\n",
    "\n",
    "# Now that we have test set, we can create the train set by dropping the test indices from the sub_reviews_df\n",
    "train = sub_reviews_df.drop(test.index)\n",
    "print(f\"Train set size: {train.shape}\")\n",
    "print(f\"Test set size: {test.shape}\")"
   ]
  },
  {
   "cell_type": "code",
   "execution_count": 25,
   "id": "b040d31239dd7be1",
   "metadata": {},
   "outputs": [
    {
     "name": "stdout",
     "output_type": "stream",
     "text": [
      "Train number of users: 6643\n",
      "Train number of movies: 1000\n",
      "Dimensions of train_user_by_movie: (6643, 1000)\n"
     ]
    }
   ],
   "source": [
    "# Create a user by movie matrix for the train set using the same column names as the user by movie matrix above\n",
    "train_user_items = train[[\"user_id\", \"movie_id\", \"rating\", \"timestamp\"]]\n",
    "train_user_by_movie = (train_user_items.groupby(['user_id', 'movie_id'])['rating'].max().unstack())\n",
    "print(f\"Train number of users: {train_user_by_movie.shape[0]}\")\n",
    "print(f\"Train number of movies: {train_user_by_movie.shape[1]}\")\n",
    "print(f\"Dimensions of train_user_by_movie: {train_user_by_movie.shape}\")"
   ]
  },
  {
   "cell_type": "code",
   "execution_count": 26,
   "id": "1a480938978082a0",
   "metadata": {},
   "outputs": [
    {
     "name": "stdout",
     "output_type": "stream",
     "text": [
      "Test number of users: 1836\n",
      "Test number of movies: 888\n",
      "Dimensions of test_user_by_movie: (1836, 888)\n"
     ]
    }
   ],
   "source": [
    "# Create a user by movie matrix for the test set using the same column names as the entire user by movie matrix above\n",
    "test_user_items = test[[\"user_id\", \"movie_id\", \"rating\", \"timestamp\"]]\n",
    "test_user_by_movie = (test_user_items.groupby(['user_id', 'movie_id'])['rating'].max().unstack())\n",
    "print(f\"Test number of users: {test_user_by_movie.shape[0]}\")\n",
    "print(f\"Test number of movies: {test_user_by_movie.shape[1]}\")\n",
    "print(f\"Dimensions of test_user_by_movie: {test_user_by_movie.shape}\")"
   ]
  },
  {
   "cell_type": "code",
   "execution_count": 27,
   "id": "bdad476102f52a0a",
   "metadata": {},
   "outputs": [
    {
     "name": "stdout",
     "output_type": "stream",
     "text": [
      "Updated dimensions of test_user_by_movie: (6643, 1000)\n"
     ]
    }
   ],
   "source": [
    "# Oops we have a problem, our train and test user_by_movie matrices have different dimensions.\n",
    "# Let's make sure that the test_user_by_movie matrix has the same dimensions as the user_by_movie matrix\n",
    "# Reindex the test_user_by_movie matrix with the index and columns of the train_user_by_movie matrix\n",
    "# We will fill the missing values with NaN by default\n",
    "test_user_by_movie = test_user_by_movie.reindex(\n",
    "    index=train_user_by_movie.index, columns=train_user_by_movie.columns\n",
    ")\n",
    "print(f\"Updated dimensions of test_user_by_movie: {test_user_by_movie.shape}\")"
   ]
  },
  {
   "cell_type": "markdown",
   "id": "10a639d995d27000",
   "metadata": {},
   "source": [
    "### Why did we make sure to sample users with more than 5 ratings? What would happen if we ended up setting aside all of the movies for a user in the test set?\n",
    "\n",
    "Add your response here"
   ]
  },
  {
   "cell_type": "code",
   "execution_count": 29,
   "id": "ec01e0dec9048550",
   "metadata": {},
   "outputs": [],
   "source": [
    "# Let's train the FunkSVD model on the train_user_by_movie matrix with 2 latent features, 0.001 learning rate, and 10 iterations\n",
    "user_train_mat, movie_train_mat, mse_train_scores = FunkSVD(\n",
    "    np.matrix(train_user_by_movie), latent_features=2, learning_rate=0.001, iters=10\n",
    ")"
   ]
  },
  {
   "cell_type": "code",
   "execution_count": 30,
   "id": "835cc7a742a14a4",
   "metadata": {},
   "outputs": [
    {
     "data": {
      "text/plain": [
       "Text(0.5, 1.0, 'Train - Mean Squared Error vs. Iterations')"
      ]
     },
     "execution_count": 30,
     "metadata": {},
     "output_type": "execute_result"
    },
    {
     "data": {
      "image/png": "[encoded data removed]",
      "text/plain": [
       "<Figure size 640x480 with 1 Axes>"
      ]
     },
     "metadata": {},
     "output_type": "display_data"
    }
   ],
   "source": [
    "# Plot mse scores for the train set to see how well the model performed\n",
    "plt.plot(mse_train_scores)\n",
    "plt.xlabel(\"Iterations\")\n",
    "plt.ylabel(\"Mean Squared Error\")\n",
    "plt.title(\"Train - Mean Squared Error vs. Iterations\")"
   ]
  },
  {
   "cell_type": "code",
   "execution_count": 31,
   "id": "3b55849794f8b42b",
   "metadata": {},
   "outputs": [],
   "source": [
    "# In order to compare the predicted values with the actual values in the test set, we need to know which values to look at.\n",
    "# Index the nonnull values from test_user_by_movie so we can compare with the predictions\n",
    "# We create a mask of the nonnull values in the test_user_by_movie matrix\n",
    "user_item_test_mask = ~np.isnan(test_user_by_movie.values.flatten())\n",
    "# Select the nonnull values from the test_user_by_movie matrix using the mask. Flatten the matrix to 1D and apply the mask\n",
    "test_user_by_movie_values = test_user_by_movie.values.flatten()[user_item_test_mask]"
   ]
  },
  {
   "cell_type": "code",
   "execution_count": 32,
   "id": "c17a0b231dba9d52",
   "metadata": {},
   "outputs": [
    {
     "name": "stdout",
     "output_type": "stream",
     "text": [
      "Test MSE: 3.162365884346405\n"
     ]
    }
   ],
   "source": [
    "# Make predictions for the test set by taking the dot product of the user and movie train matrices\n",
    "test_predictions = np.dot(user_train_mat, movie_train_mat)\n",
    "\n",
    "# Use the user_item_test_mask to select the same values from the predictions\n",
    "test_predictions_values = test_predictions.flatten()[user_item_test_mask]\n",
    "\n",
    "# Calculate mse for the test set using the actual and predicted values\n",
    "test_mse = np.mean((test_user_by_movie_values - test_predictions_values) ** 2)\n",
    "print(f\"Test MSE: {test_mse}\")"
   ]
  },
  {
   "cell_type": "code",
   "execution_count": 33,
   "id": "fdbc205132aa991e",
   "metadata": {},
   "outputs": [
    {
     "name": "stdout",
     "output_type": "stream",
     "text": [
      "Test MSE for 1 latent features: 10.913694451157763\n",
      "Test MSE for 4 latent features: 5.900952713989099\n",
      "Test MSE for 7 latent features: 4.29233468779258\n",
      "Test MSE for 10 latent features: 3.5423739386310245\n",
      "Test MSE for 13 latent features: 3.078759996256306\n",
      "Test MSE for 16 latent features: 2.824188450052536\n",
      "Test MSE for 19 latent features: 2.6681844852696135\n",
      "Test MSE for 22 latent features: 2.554491245891198\n"
     ]
    }
   ],
   "source": [
    "# Not bad, but let's see how the model performs with different number of latent features\n",
    "# We will calculate the mse for the test set for different number of latent features, from 1 to 25, with a step of 3\n",
    "# Use FunkSVD to train the model per number of latent feature, with a learning rate of 0.001 and 5 iterations\n",
    "# Store the mse in a list so we can plot it\n",
    "mse_per_latent = []\n",
    "for i in range(1, 25, 3):\n",
    "    user_train_mat, movie_train_mat, mse_train_scores = FunkSVD(\n",
    "        np.matrix(train_user_by_movie), latent_features=i, learning_rate=0.001, iters=5\n",
    "    )\n",
    "    test_predictions = np.dot(user_train_mat, movie_train_mat)\n",
    "    test_predictions_values = test_predictions.flatten()[user_item_test_mask]\n",
    "    test_mse = np.mean((test_user_by_movie_values - test_predictions_values) ** 2)\n",
    "    mse_per_latent.append(test_mse)\n",
    "    print(f\"Test MSE for {i} latent features: {test_mse}\")"
   ]
  },
  {
   "cell_type": "code",
   "execution_count": 34,
   "id": "efe7af1d49cd726c",
   "metadata": {},
   "outputs": [
    {
     "data": {
      "text/plain": [
       "Text(0.5, 1.0, 'Mean Squared Error vs. Latent Features')"
      ]
     },
     "execution_count": 34,
     "metadata": {},
     "output_type": "execute_result"
    },
    {
     "data": {
      "image/png": "[encoded data removed]",
      "text/plain": [
       "<Figure size 640x480 with 1 Axes>"
      ]
     },
     "metadata": {},
     "output_type": "display_data"
    }
   ],
   "source": [
    "# plot mse per latent features\n",
    "plt.plot(range(1, 25, 3), mse_per_latent)\n",
    "plt.xlabel(\"Latent Features\")\n",
    "plt.ylabel(\"Mean Squared Error\")\n",
    "plt.title(\"Mean Squared Error vs. Latent Features\")"
   ]
  },
  {
   "cell_type": "code",
   "execution_count": 35,
   "id": "3084bc6ca87cbde2",
   "metadata": {},
   "outputs": [
    {
     "data": {
      "text/html": [
       "<div>\n",
       "<style scoped>\n",
       "    .dataframe tbody tr th:only-of-type {\n",
       "        vertical-align: middle;\n",
       "    }\n",
       "\n",
       "    .dataframe tbody tr th {\n",
       "        vertical-align: top;\n",
       "    }\n",
       "\n",
       "    .dataframe thead th {\n",
       "        text-align: right;\n",
       "    }\n",
       "</style>\n",
       "<table border=\"1\" class=\"dataframe\">\n",
       "  <thead>\n",
       "    <tr style=\"text-align: right;\">\n",
       "      <th></th>\n",
       "      <th>actual</th>\n",
       "      <th>predicted</th>\n",
       "    </tr>\n",
       "  </thead>\n",
       "  <tbody>\n",
       "    <tr>\n",
       "      <th>0</th>\n",
       "      <td>9.0</td>\n",
       "      <td>8.0</td>\n",
       "    </tr>\n",
       "    <tr>\n",
       "      <th>1</th>\n",
       "      <td>10.0</td>\n",
       "      <td>8.6</td>\n",
       "    </tr>\n",
       "    <tr>\n",
       "      <th>2</th>\n",
       "      <td>8.0</td>\n",
       "      <td>5.7</td>\n",
       "    </tr>\n",
       "    <tr>\n",
       "      <th>3</th>\n",
       "      <td>9.0</td>\n",
       "      <td>6.3</td>\n",
       "    </tr>\n",
       "    <tr>\n",
       "      <th>4</th>\n",
       "      <td>9.0</td>\n",
       "      <td>7.2</td>\n",
       "    </tr>\n",
       "    <tr>\n",
       "      <th>5</th>\n",
       "      <td>7.0</td>\n",
       "      <td>7.9</td>\n",
       "    </tr>\n",
       "    <tr>\n",
       "      <th>6</th>\n",
       "      <td>8.0</td>\n",
       "      <td>9.2</td>\n",
       "    </tr>\n",
       "    <tr>\n",
       "      <th>7</th>\n",
       "      <td>7.0</td>\n",
       "      <td>8.0</td>\n",
       "    </tr>\n",
       "    <tr>\n",
       "      <th>8</th>\n",
       "      <td>9.0</td>\n",
       "      <td>8.1</td>\n",
       "    </tr>\n",
       "    <tr>\n",
       "      <th>9</th>\n",
       "      <td>6.0</td>\n",
       "      <td>7.2</td>\n",
       "    </tr>\n",
       "  </tbody>\n",
       "</table>\n",
       "</div>"
      ],
      "text/plain": [
       "   actual  predicted\n",
       "0     9.0        8.0\n",
       "1    10.0        8.6\n",
       "2     8.0        5.7\n",
       "3     9.0        6.3\n",
       "4     9.0        7.2\n",
       "5     7.0        7.9\n",
       "6     8.0        9.2\n",
       "7     7.0        8.0\n",
       "8     9.0        8.1\n",
       "9     6.0        7.2"
      ]
     },
     "execution_count": 35,
     "metadata": {},
     "output_type": "execute_result"
    }
   ],
   "source": [
    "# Take a look at the first 10 actual and predicted values. How do they compare?\n",
    "pd.DataFrame(\n",
    "    {\n",
    "        \"actual\": test_user_by_movie_values[:10],\n",
    "        \"predicted\": test_predictions_values[:10].round(1),\n",
    "    }\n",
    ")"
   ]
  },
  {
   "cell_type": "code",
   "execution_count": null,
   "id": "e0c083e2",
   "metadata": {},
   "outputs": [],
   "source": []
  }
 ],
 "metadata": {
  "kernelspec": {
   "display_name": "Python 3 (ipykernel)",
   "language": "python",
   "name": "python3"
  },
  "language_info": {
   "codemirror_mode": {
    "name": "ipython",
    "version": 3
   },
   "file_extension": ".py",
   "mimetype": "text/x-python",
   "name": "python",
   "nbconvert_exporter": "python",
   "pygments_lexer": "ipython3",
   "version": "3.10.13"
  }
 },
 "nbformat": 4,
 "nbformat_minor": 5
}
