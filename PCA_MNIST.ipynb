{
 "cells": [
  {
   "cell_type": "markdown",
   "id": "a24aac776777480d",
   "metadata": {},
   "source": [
    "# Principal Component Analysis (PCA) with MNIST\n",
    "In this notebook, we will use PCA to perform dimensionality reduction on the MNIST dataset. The MNIST dataset is a famous dataset of handwritten digits, 0 through 9. It is often used in machine learning tutorials and is a good way to demonstrate the effectiveness of different algorithms. We will use PCA to reduce the dimensionality of the dataset and visualize the components. We further show how selecting which number of components to keep can impact the accuracy of a machine learning model."
   ]
  },
  {
   "cell_type": "markdown",
   "id": "ba449a3ab6169a72",
   "metadata": {},
   "source": [
    "## Setup"
   ]
  },
  {
   "cell_type": "code",
   "execution_count": 1,
   "id": "initial_id",
   "metadata": {
    "ExecuteTime": {
     "end_time": "2024-08-16T01:43:42.993594Z",
     "start_time": "2024-08-16T01:43:42.005791Z"
    }
   },
   "outputs": [],
   "source": [
    "import numpy as np\n",
    "import pandas as pd\n",
    "import matplotlib.pyplot as plt\n",
    "from sklearn.decomposition import PCA\n",
    "from sklearn.preprocessing import StandardScaler\n",
    "from sklearn.model_selection import train_test_split\n",
    "from sklearn.metrics import confusion_matrix, accuracy_score\n",
    "from sklearn.ensemble import RandomForestClassifier\n",
    "import test_code"
   ]
  },
  {
   "cell_type": "code",
   "execution_count": 2,
   "id": "d759ea0c00a181e6",
   "metadata": {
    "ExecuteTime": {
     "end_time": "2024-08-16T01:43:43.112572Z",
     "start_time": "2024-08-16T01:43:42.994557Z"
    }
   },
   "outputs": [],
   "source": [
    "# Read in our dataset\n",
    "train = pd.read_csv('data/train.csv')"
   ]
  },
  {
   "cell_type": "code",
   "execution_count": 3,
   "id": "2a006e92655eec25",
   "metadata": {
    "ExecuteTime": {
     "end_time": "2024-08-16T01:43:43.117326Z",
     "start_time": "2024-08-16T01:43:43.113305Z"
    }
   },
   "outputs": [
    {
     "name": "stdout",
     "output_type": "stream",
     "text": [
      "There are 114 null values in the dataset.\n"
     ]
    }
   ],
   "source": [
    "# How many null values are in the dataset?\n",
    "num_nulls = train.isnull().sum().sum()\n",
    "print(f'There are {num_nulls} null values in the dataset.')"
   ]
  },
  {
   "cell_type": "code",
   "execution_count": 4,
   "id": "6b999b295d338db8",
   "metadata": {
    "ExecuteTime": {
     "end_time": "2024-08-16T01:43:43.123062Z",
     "start_time": "2024-08-16T01:43:43.118542Z"
    }
   },
   "outputs": [],
   "source": [
    "# Fill them with 0\n",
    "train.fillna(0, inplace=True)"
   ]
  },
  {
   "cell_type": "code",
   "execution_count": 5,
   "id": "206dd49c4e83a125",
   "metadata": {
    "ExecuteTime": {
     "end_time": "2024-08-16T01:43:43.131343Z",
     "start_time": "2024-08-16T01:43:43.123671Z"
    }
   },
   "outputs": [],
   "source": [
    "# Save the 'label' column (which is our target) to a Pandas series named y\n",
    "y = train['label']\n",
    "\n",
    "# Drop the 'label' feature from train\n",
    "X = train.drop('label', axis=1)"
   ]
  },
  {
   "cell_type": "markdown",
   "id": "a1d761bcd213171b",
   "metadata": {},
   "source": [
    "### A few helper functions\n",
    "If you are interested, review them and see how they can be helpful visualizing the data we are working with."
   ]
  },
  {
   "cell_type": "code",
   "execution_count": 6,
   "id": "2ac4222eb4382043",
   "metadata": {
    "ExecuteTime": {
     "end_time": "2024-08-16T01:43:43.134637Z",
     "start_time": "2024-08-16T01:43:43.132086Z"
    }
   },
   "outputs": [],
   "source": [
    "def show_images(num_images, X):\n",
    "    \"\"\"\n",
    "    This function plots the num_images provided of MNIST dataset.\n",
    "\n",
    "    INPUT: int - The number of images you would like to view.\n",
    "           Mod 10 of num_images should be 0 and it should be fewer than 101 images.\n",
    "    OUTPUT: A figure with the images shown for the training data.\n",
    "    \"\"\"\n",
    "    if num_images % 10 == 0 and num_images <= 100:\n",
    "        for digit_num in range(num_images):\n",
    "            plt.subplot(num_images // 10, 10, digit_num + 1) #create subplots\n",
    "            mat_data = X.iloc[digit_num].values.reshape(28, 28)  #reshape images\n",
    "            plt.imshow(mat_data) #plot the data\n",
    "            plt.xticks([]) #removes numbered labels on x-axis\n",
    "            plt.yticks([]) #removes numbered labels on y-axis\n",
    "    else:\n",
    "        print('That is not the right input, please read the docstring before continuing.')"
   ]
  },
  {
   "cell_type": "code",
   "execution_count": 7,
   "id": "80cf3147b559c018",
   "metadata": {
    "ExecuteTime": {
     "end_time": "2024-08-16T01:43:43.138251Z",
     "start_time": "2024-08-16T01:43:43.135279Z"
    }
   },
   "outputs": [],
   "source": [
    "def scree_plot(pca):\n",
    "    \"\"\"\n",
    "    Creates a scree plot associated with the principal components \n",
    "    \n",
    "    INPUT: pca - the result of fitted PCA object in scikit learn\n",
    "            \n",
    "    OUTPUT:\n",
    "            None\n",
    "    \"\"\"\n",
    "    num_components = len(pca.explained_variance_ratio_)\n",
    "    ind = np.arange(num_components)\n",
    "    vals = pca.explained_variance_ratio_\n",
    " \n",
    "    plt.figure(figsize=(10, 6))\n",
    "    ax = plt.subplot(111)\n",
    "    cumvals = np.cumsum(vals)\n",
    "    ax.bar(ind, vals)\n",
    "    ax.plot(ind, cumvals)\n",
    "    for i in range(num_components):\n",
    "        ax.annotate(\n",
    "            f\"{vals[i] * 100:.2f}%\", \n",
    "            (ind[i] + 0.2, vals[i]), \n",
    "            va=\"bottom\",\n",
    "            ha=\"center\", \n",
    "            fontsize=12\n",
    "        )\n",
    " \n",
    "    ax.xaxis.set_tick_params(width=0)\n",
    "    ax.yaxis.set_tick_params(width=2, length=12)\n",
    " \n",
    "    ax.set_xlabel(\"Principal Component\")\n",
    "    ax.set_ylabel(\"Variance-Explained Ratio\")\n",
    "    plt.title('Explained Variance Per Principal Component')"
   ]
  },
  {
   "cell_type": "code",
   "execution_count": 8,
   "id": "f5817144b46a25f5",
   "metadata": {
    "ExecuteTime": {
     "end_time": "2024-08-16T01:43:43.141082Z",
     "start_time": "2024-08-16T01:43:43.139002Z"
    }
   },
   "outputs": [],
   "source": [
    "def plot_component(pca, comp):\n",
    "    \"\"\"\n",
    "    Plots an image associated with each component to understand how the weighting \n",
    "    of the components \n",
    "    INPUT: \n",
    "          pca - pca object created from PCA in sklearn\n",
    "          comp - int - the component you want to see starting at 0\n",
    "    OUTPUT\n",
    "          None\n",
    "    \"\"\"\n",
    "    if comp <= len(pca.components_):\n",
    "        mat_data = np.asmatrix(pca.components_[comp]).reshape(28, 28)  #reshape images\n",
    "        plt.imshow(mat_data) #plot the data\n",
    "        plt.xticks([]) #removes numbered labels on x-axis\n",
    "        plt.yticks([]) #removes numbered labels on y-axis   \n",
    "    else:\n",
    "        print('That is not the right input, please read the docstring before continuing.')"
   ]
  },
  {
   "cell_type": "markdown",
   "id": "ab47ee6c2017a035",
   "metadata": {},
   "source": [
    "## Data Exploration and PCA"
   ]
  },
  {
   "cell_type": "code",
   "execution_count": 9,
   "id": "aeb07fa33de53497",
   "metadata": {
    "ExecuteTime": {
     "end_time": "2024-08-16T01:43:43.382912Z",
     "start_time": "2024-08-16T01:43:43.141738Z"
    }
   },
   "outputs": [
    {
     "data": {
      "image/png": "[encoded data removed]",
      "text/plain": [
       "<Figure size 640x480 with 20 Axes>"
      ]
     },
     "metadata": {},
     "output_type": "display_data"
    }
   ],
   "source": [
    "# Show the first 20 images\n",
    "show_images(20, X)"
   ]
  },
  {
   "cell_type": "markdown",
   "id": "5f8e9e47b5515bae",
   "metadata": {},
   "source": [
    "**1.** Perform PCA on the `X` matrix using sklearn's PCA class. Reduce the original dataset of more than 700 features to only 10 principal components. Remember the steps needed to perform PCA:\n",
    "1. Instantiate the model with the number of components you want - 10\n",
    "2. Standardize the data, use the StandardScaler preprocessing class in sklearn\n",
    "3. Fit the model\n",
    "4. Transform the data to the number of components"
   ]
  },
  {
   "cell_type": "code",
   "execution_count": 10,
   "id": "a8da0fdf5bcb66e5",
   "metadata": {
    "ExecuteTime": {
     "end_time": "2024-08-16T01:43:47.665446Z",
     "start_time": "2024-08-16T01:43:43.427834Z"
    }
   },
   "outputs": [],
   "source": [
    "# Perform PCA on the X matrix\n",
    "X_standard = StandardScaler().fit_transform(X)\n",
    "pca = PCA(n_components=10)\n",
    "X_pca = pca.fit_transform(X_standard)"
   ]
  },
  {
   "cell_type": "code",
   "execution_count": 11,
   "id": "a863e538d333215a",
   "metadata": {
    "ExecuteTime": {
     "end_time": "2024-08-16T01:43:47.671850Z",
     "start_time": "2024-08-16T01:43:47.667048Z"
    }
   },
   "outputs": [
    {
     "data": {
      "text/plain": [
       "((6304, 784), (6304, 10))"
      ]
     },
     "execution_count": 11,
     "metadata": {},
     "output_type": "execute_result"
    }
   ],
   "source": [
    "# Let's check the shape of the original data and the transformed data\n",
    "X_standard.shape, X_pca.shape"
   ]
  },
  {
   "cell_type": "code",
   "execution_count": 12,
   "id": "366f4433741b7cce",
   "metadata": {
    "ExecuteTime": {
     "end_time": "2024-08-16T01:43:47.677447Z",
     "start_time": "2024-08-16T01:43:47.673176Z"
    }
   },
   "outputs": [
    {
     "data": {
      "text/plain": [
       "array([[-4.99547802, -5.87609952,  2.41070334,  2.26539401, -5.01823832,\n",
       "         0.83162613, -4.77071991, -4.62919715,  0.50570182,  1.33023306],\n",
       "       [19.1585168 ,  6.30634076,  1.94453955,  3.24504682, -2.82085014,\n",
       "        -2.22498581,  3.34764831,  0.63003639, -4.21440925,  2.21394225],\n",
       "       [-7.55158783, -2.22521271,  1.8817457 , -1.49484618, -5.17830952,\n",
       "        -4.24993198,  1.1579165 ,  2.04946264,  0.23739913, -0.08617718],\n",
       "       [-0.53653982,  5.0841062 ,  3.922204  , -3.65368859, -2.42438225,\n",
       "         1.77190464, -5.1686943 , -0.65375986,  0.55090738, -6.32350706],\n",
       "       [26.37063004,  6.83799293,  1.33632095,  4.63235134, -8.7840533 ,\n",
       "        -3.10442866,  5.61875932, -1.41753862, -4.22228696,  5.0233213 ]])"
      ]
     },
     "execution_count": 12,
     "metadata": {},
     "output_type": "execute_result"
    }
   ],
   "source": [
    "# And the top 5 rows of the transformed data\n",
    "X_pca[:5]"
   ]
  },
  {
   "cell_type": "code",
   "execution_count": 13,
   "id": "84faaecd49eeb2d",
   "metadata": {
    "ExecuteTime": {
     "end_time": "2024-08-16T01:43:47.683029Z",
     "start_time": "2024-08-16T01:43:47.679327Z"
    }
   },
   "outputs": [
    {
     "data": {
      "text/plain": [
       "array([0.06135278, 0.04292222, 0.04122265, 0.03205943, 0.02736555,\n",
       "       0.02425957, 0.02019678, 0.01905783, 0.01699779, 0.01528851])"
      ]
     },
     "execution_count": 13,
     "metadata": {},
     "output_type": "execute_result"
    }
   ],
   "source": [
    "# Output the explained variance array\n",
    "pca.explained_variance_ratio_"
   ]
  },
  {
   "cell_type": "code",
   "execution_count": 14,
   "id": "7a9ffdbc945fcd9c",
   "metadata": {
    "ExecuteTime": {
     "end_time": "2024-08-16T01:43:47.687449Z",
     "start_time": "2024-08-16T01:43:47.684482Z"
    }
   },
   "outputs": [
    {
     "name": "stdout",
     "output_type": "stream",
     "text": [
      "The total explained variance is 30.07%.\n"
     ]
    }
   ],
   "source": [
    "# What is the total explained variance?\n",
    "total_explained_variance = pca.explained_variance_ratio_.sum()\n",
    "print(f\"The total explained variance is {total_explained_variance * 100:.2f}%.\")"
   ]
  },
  {
   "cell_type": "code",
   "execution_count": 15,
   "id": "e689360802878a68",
   "metadata": {
    "ExecuteTime": {
     "end_time": "2024-08-16T01:43:47.692920Z",
     "start_time": "2024-08-16T01:43:47.689080Z"
    }
   },
   "outputs": [
    {
     "name": "stdout",
     "output_type": "stream",
     "text": [
      "The explained variance for the first two components is 10.43%.\n"
     ]
    }
   ],
   "source": [
    "# What is the explained variance for the first two components?\n",
    "first_two_explained_variance = pca.explained_variance_ratio_[:2].sum()\n",
    "print(f\"The explained variance for the first two components is {first_two_explained_variance * 100:.2f}%.\")"
   ]
  },
  {
   "cell_type": "markdown",
   "id": "c4dc72ab2c083049",
   "metadata": {},
   "source": [
    "## Explained Variance"
   ]
  },
  {
   "cell_type": "markdown",
   "id": "d16f320fe1067d38",
   "metadata": {},
   "source": [
    "**2.** Illustrate the explained variance per principal component using a  scree plot."
   ]
  },
  {
   "cell_type": "code",
   "execution_count": 16,
   "id": "d53fc322d978bf99",
   "metadata": {
    "ExecuteTime": {
     "end_time": "2024-08-16T01:43:47.948466Z",
     "start_time": "2024-08-16T01:43:47.694460Z"
    }
   },
   "outputs": [
    {
     "data": {
      "image/png": "[encoded data removed]",
      "text/plain": [
       "<Figure size 1000x600 with 1 Axes>"
      ]
     },
     "metadata": {},
     "output_type": "display_data"
    }
   ],
   "source": [
    "# Call the function scree_plot on the pca object\n",
    "scree_plot(pca)"
   ]
  },
  {
   "cell_type": "markdown",
   "id": "eca8ac7d01a7651c",
   "metadata": {},
   "source": [
    "**3.** Using the results of your scree plot, match each letter as the value to the correct key in the `solution_three` dictionary.  Once you are confident in your solution run the next cell to see if your solution matches ours."
   ]
  },
  {
   "cell_type": "code",
   "execution_count": 17,
   "id": "34a9532fd09d8c7d",
   "metadata": {
    "ExecuteTime": {
     "end_time": "2024-08-16T01:43:47.951206Z",
     "start_time": "2024-08-16T01:43:47.949138Z"
    }
   },
   "outputs": [],
   "source": [
    "a = True\n",
    "b = False\n",
    "c = 6.14\n",
    "d = 'The total amount of variability in the data explained by the first two principal components'\n",
    "e = None\n",
    "\n",
    "solution_three = {\n",
    "    '10.43' : d, \n",
    "    'The first component will ALWAYS have the most amount of variability explained.': a,\n",
    "    'The total amount of variability in the data explained by the first component': c,\n",
    "    'The sum of the variability explained by all the components can be greater than 100%': b\n",
    "}"
   ]
  },
  {
   "cell_type": "code",
   "execution_count": 18,
   "id": "d74313e8e514af15",
   "metadata": {
    "ExecuteTime": {
     "end_time": "2024-08-16T01:43:47.953616Z",
     "start_time": "2024-08-16T01:43:47.951844Z"
    }
   },
   "outputs": [
    {
     "name": "stdout",
     "output_type": "stream",
     "text": [
      "Looks good!  The amount of variability explained by each principal component gives us an idea of how much of the original variability in the original data is retained by each component.  Nice job matching these up!\n"
     ]
    }
   ],
   "source": [
    "# Run this cell to see if your solution matches ours\n",
    "test_code.question_3_check(solution_three)"
   ]
  },
  {
   "cell_type": "markdown",
   "id": "6260d38e8fd4b24b",
   "metadata": {},
   "source": [
    "## Principal Components Visualization"
   ]
  },
  {
   "cell_type": "markdown",
   "id": "4a4acddd74a9f78",
   "metadata": {},
   "source": [
    "**4.** Use the `plot_component` function to look at each of the components (remember they are 0 indexed).  Use the results to assist with question 5."
   ]
  },
  {
   "cell_type": "code",
   "execution_count": 19,
   "id": "4d55d265784ad556",
   "metadata": {
    "ExecuteTime": {
     "end_time": "2024-08-16T01:43:47.984163Z",
     "start_time": "2024-08-16T01:43:47.954601Z"
    }
   },
   "outputs": [
    {
     "data": {
      "image/png": "[encoded data removed]",
      "text/plain": [
       "<Figure size 640x480 with 1 Axes>"
      ]
     },
     "metadata": {},
     "output_type": "display_data"
    }
   ],
   "source": [
    "# Plot the first 5 components and answer question 5. What do you think each component is capturing? Use the plot_component function to view each of the components.\n",
    "plot_component(pca, 0)"
   ]
  },
  {
   "cell_type": "markdown",
   "id": "bb5f778375959e9",
   "metadata": {},
   "source": [
    "**5.** Using the results from viewing each of your principal component weights in question 4, change the following values of the `solution_five` dictionary to the **number of the index** for the principal component that best matches the description.  Once you are confident in your solution run the next cell to see if your solution matches ours."
   ]
  },
  {
   "cell_type": "code",
   "execution_count": 20,
   "id": "4161a2d1417cac65",
   "metadata": {
    "ExecuteTime": {
     "end_time": "2024-08-16T01:43:47.987710Z",
     "start_time": "2024-08-16T01:43:47.985332Z"
    }
   },
   "outputs": [],
   "source": [
    "solution_five = {\n",
    "    'This component looks like it will assist in identifying zero': 0,\n",
    "    'This component looks like it will assist in identifying three': 3\n",
    "}"
   ]
  },
  {
   "cell_type": "code",
   "execution_count": 21,
   "id": "3614200d43cde97",
   "metadata": {
    "ExecuteTime": {
     "end_time": "2024-08-16T01:43:47.991466Z",
     "start_time": "2024-08-16T01:43:47.988937Z"
    }
   },
   "outputs": [
    {
     "name": "stdout",
     "output_type": "stream",
     "text": [
      "Nice job!  That matches our solution as well!  The index of the first principal component appears to have really high weights where a zero would appear.  Alternatively, the fourth (third indexed component) appears to downweight where a three would appear to make it stand out.\n"
     ]
    }
   ],
   "source": [
    "# Run this cell to see if your solution matches ours\n",
    "test_code.question_5_check(solution_five)"
   ]
  },
  {
   "cell_type": "markdown",
   "id": "384ed602f44e660a",
   "metadata": {},
   "source": [
    "So far from this notebook, you have had an opportunity to look at the two major parts of PCA using sklearn:\n",
    "\n",
    "**I.** The amount or magnitude of **variance explained by each component**. What we know as the **eigenvalue**.\n",
    "\n",
    "**II.** The principal components themselves, each component is a project of the original data onto the eigenvectors. In this case, the principal components help us understand which pixels of the image are most helpful in identifying the difference between digits."
   ]
  },
  {
   "cell_type": "markdown",
   "id": "184885b4bc6636a",
   "metadata": {},
   "source": [
    "## Random Forest Model and the Impact of PCA\n",
    "We'll now use a random forest classifier to see how the number of components we use in PCA impacts the accuracy of our model. We'll start by using 2 components and then increase the number of components until we reach an accuracy of at least 90%."
   ]
  },
  {
   "cell_type": "code",
   "execution_count": 22,
   "id": "c5604efe1c79bf63",
   "metadata": {
    "ExecuteTime": {
     "end_time": "2024-08-16T01:45:12.243339Z",
     "start_time": "2024-08-16T01:43:47.992748Z"
    }
   },
   "outputs": [
    {
     "name": "stdout",
     "output_type": "stream",
     "text": [
      "With only 26 components, a random forest acheived an accuracy of 0.90.\n",
      "[[191   0   3   0   0   2   7   3   1   2]\n",
      " [  0 233   2   1   0   0   2   0   4   1]\n",
      " [  1   2 210   4   2   0   2   3   4   0]\n",
      " [  0   0   7 169   0   8   0   2   5   0]\n",
      " [  0   0   4   0 158   1   3   1   0  11]\n",
      " [  1   0   4   6   1 169   0   0   2   3]\n",
      " [  3   0   2   0   3   1 201   0   1   0]\n",
      " [  0   1   7   1   2   0   0 200   3  11]\n",
      " [  0   1   0  12   2   8   0   0 177   2]\n",
      " [  1   0   2   3  14   0   0  14   2 172]]\n"
     ]
    }
   ],
   "source": [
    "all_accuracy = []\n",
    "for n_components in range(2, 100, 2):\n",
    "    pca = PCA(n_components=n_components)\n",
    "    X_pca = pca.fit_transform(X_standard)\n",
    "    X_train, X_test, y_train, y_test = train_test_split(\n",
    "        X_pca, y, test_size=0.33, random_state=42\n",
    "    )\n",
    "    clf = RandomForestClassifier(n_estimators=100, max_depth=None, random_state=42)\n",
    "    #fit\n",
    "    clf.fit(X_train, y_train)\n",
    "\n",
    "    #predict\n",
    "    y_preds = clf.predict(X_test)\n",
    "\n",
    "    #score\n",
    "    acc = accuracy_score(y_test, y_preds)\n",
    "    all_accuracy.append(acc)\n",
    "    if acc > .90:\n",
    "        print(f\"With only {n_components} components, a random forest acheived an accuracy of {acc:0.2f}.\".format(n_components, acc))\n",
    "        print(confusion_matrix(y_test, y_preds))\n",
    "        break"
   ]
  },
  {
   "cell_type": "code",
   "execution_count": 23,
   "id": "a9ea89e0c466c8ad",
   "metadata": {
    "ExecuteTime": {
     "end_time": "2024-08-16T01:45:12.340309Z",
     "start_time": "2024-08-16T01:45:12.244012Z"
    }
   },
   "outputs": [
    {
     "data": {
      "text/plain": [
       "[<matplotlib.lines.Line2D at 0x7c3a3d394a90>]"
      ]
     },
     "execution_count": 23,
     "metadata": {},
     "output_type": "execute_result"
    },
    {
     "data": {
      "image/png": "[encoded data removed]",
      "text/plain": [
       "<Figure size 1000x600 with 1 Axes>"
      ]
     },
     "metadata": {},
     "output_type": "display_data"
    }
   ],
   "source": [
    "# Plot the accuracy by number of components\n",
    "plt.figure(figsize=(10, 6))\n",
    "plt.title(\"Accuracy by Number of Components\")\n",
    "plt.xlabel(\"Number of Components\")\n",
    "plt.ylabel(\"Accuracy\")\n",
    "plt.xticks(range(2, n_components + 1, 2))\n",
    "plt.plot(range(2, n_components + 1, 2), all_accuracy, color = 'blue', )"
   ]
  },
  {
   "cell_type": "markdown",
   "id": "5a48af078c03d1bc",
   "metadata": {},
   "source": [
    "**6.** What is the smallest number of principal components that gives a random forest accuracy of at least 90% in predicting the handwritten digits in the MNIST dataset? What is the number of components needed to get an accuracy of ~80%?"
   ]
  },
  {
   "cell_type": "code",
   "execution_count": 24,
   "id": "f869a972829f9826",
   "metadata": {
    "ExecuteTime": {
     "end_time": "2024-08-16T01:45:12.343171Z",
     "start_time": "2024-08-16T01:45:12.340986Z"
    }
   },
   "outputs": [],
   "source": [
    "solution_six = {\n",
    "    \"n_components_90\": n_components,\n",
    "    \"n_components_80\": 6\n",
    "}"
   ]
  },
  {
   "cell_type": "code",
   "execution_count": 25,
   "id": "5a92537524dec981",
   "metadata": {
    "ExecuteTime": {
     "end_time": "2024-08-16T01:45:12.346503Z",
     "start_time": "2024-08-16T01:45:12.344389Z"
    }
   },
   "outputs": [
    {
     "name": "stdout",
     "output_type": "stream",
     "text": [
      "Great work!  You've identified that you need about 20-40 components to explain 90% of the variability in the data.  This is a good number to use for reducing the dimensionality of the data.\n",
      "Awesome!  You've identified that you need about 5-10 components to explain 80% of the variability in the data.  This is a good number to use for reducing the dimensionality of the data.\n"
     ]
    }
   ],
   "source": [
    "# Run this cell to see if your solution matches ours\n",
    "test_code.question_6_check(solution_six)"
   ]
  },
  {
   "cell_type": "code",
   "execution_count": null,
   "id": "514511c4",
   "metadata": {},
   "outputs": [],
   "source": []
  }
 ],
 "metadata": {
  "kernelspec": {
   "display_name": "Python 3 (ipykernel)",
   "language": "python",
   "name": "python3"
  },
  "language_info": {
   "codemirror_mode": {
    "name": "ipython",
    "version": 3
   },
   "file_extension": ".py",
   "mimetype": "text/x-python",
   "name": "python",
   "nbconvert_exporter": "python",
   "pygments_lexer": "ipython3",
   "version": "3.10.13"
  }
 },
 "nbformat": 4,
 "nbformat_minor": 5
}
