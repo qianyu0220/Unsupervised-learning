{
 "cells": [
  {
   "cell_type": "markdown",
   "id": "3d82a784",
   "metadata": {},
   "source": [
    "# Problem\n",
    "You work for a music streaming company that specializes in using machine learning to recommend new music. As a data scientist on the team, you helped develop a new recommendation algorithm to improve user experience.\n",
    "\n",
    "This algorithm introduces a new stage in the processing pipeline, leveraging unsupervised learning to cluster users based on their listening history and the instrumentals present in the tracks.\n",
    "\n",
    "Internal testing showed promising results in how these clusters relate to music recommendations, but now it's time for a real-world evaluation. You need to design an experiment to compare the effectiveness of this new algorithm with the existing recommendation system.\n",
    "# Sample Size Calculator\n",
    "This sample size calculator allows you to generate the number of samples needed for each side of an A/B test.\n",
    "\n",
    "Expects:\n",
    "1. hypothesis type (one-sided or two-sided)\n",
    "2. confidence level\n",
    "3. power of the test\n",
    "4. baseline conversion rate\n",
    "5. expected improvement relative to the baseline conversion rate\n"
   ]
  },
  {
   "cell_type": "code",
   "execution_count": 1,
   "id": "e9ebf929",
   "metadata": {},
   "outputs": [],
   "source": [
    "import numpy as np\n",
    "from scipy.stats import norm"
   ]
  },
  {
   "cell_type": "code",
   "execution_count": 2,
   "id": "513f1cec",
   "metadata": {},
   "outputs": [],
   "source": [
    "def calculate_sample_size(hypothesis, confidence, power, baseline_conversion_rate, expected_improvement):\n",
    "    \"\"\"\n",
    "    Calculates the minimum sample size per variation for an A/B test for a normally distributed metric.\n",
    "\n",
    "    Args:\n",
    "      hypothesis (str): 'one-sided' or 'two-sided'\n",
    "      confidence (float): Confidence level (e.g., 0.95 for 95%)\n",
    "      power (float): Power of the test (e.g., 0.8 for 80%)\n",
    "      baseline_conversion_rate (float): Baseline conversion rate (e.g., 0.1 for 10%)\n",
    "      expected_improvement (float): Expected relative improvement in conversion rate (e.g., 0.1 for 10% improvement)\n",
    "\n",
    "    Returns:\n",
    "      int: Minimum sample size per variation\n",
    "    \"\"\"\n",
    "\n",
    "    if hypothesis not in ('one-sided', 'two-sided'):\n",
    "        raise ValueError(\"Hypothesis must be 'one-sided' or 'two-sided'\")\n",
    "\n",
    "    # Calculate the effect size\n",
    "    effect_size = abs(expected_improvement) \n",
    "    \n",
    "    # Calculate the pooled standard deviation\n",
    "    p2 = baseline_conversion_rate *  (1 + effect_size)\n",
    "    pooled_prob = (baseline_conversion_rate + p2) / 2\n",
    "    pooled_sd = np.sqrt(pooled_prob * (1 - pooled_prob))\n",
    "    mde = effect_size * baseline_conversion_rate\n",
    "\n",
    "    # Adjust alpha if two-sided test\n",
    "    alpha = 1 - confidence\n",
    "    alpha = alpha / (2 if hypothesis == 'two-sided' else 1)\n",
    "    \n",
    "    # Calculate the z-scores\n",
    "    z_alpha = norm.ppf(1 - alpha)\n",
    "    z_beta = norm.ppf(power)\n",
    "    z_combined = (z_alpha + z_beta)**2\n",
    "\n",
    "    # Calculate the sample size\n",
    "    n =  2 * z_combined * pooled_sd**2 / mde**2\n",
    "    # Round up to the nearest whole number\n",
    "    n = int(np.ceil(n))\n",
    "    return n"
   ]
  },
  {
   "cell_type": "code",
   "execution_count": 4,
   "id": "1684aed2",
   "metadata": {},
   "outputs": [
    {
     "data": {
      "text/plain": [
       "36694"
      ]
     },
     "execution_count": 4,
     "metadata": {},
     "output_type": "execute_result"
    }
   ],
   "source": [
    "# Calculate the required sample size needed for a two sided test\n",
    "# Use a 95% confidence and 80% power\n",
    "# Use a baseline conversion of 2%, with a 15% expected improvement\n",
    "calculate_sample_size(\"two-sided\", 0.95, 0.8, 0.02, 0.15)"
   ]
  },
  {
   "cell_type": "code",
   "execution_count": null,
   "id": "e8fa890b",
   "metadata": {},
   "outputs": [],
   "source": []
  }
 ],
 "metadata": {
  "kernelspec": {
   "display_name": "Python 3 (ipykernel)",
   "language": "python",
   "name": "python3"
  },
  "language_info": {
   "codemirror_mode": {
    "name": "ipython",
    "version": 3
   },
   "file_extension": ".py",
   "mimetype": "text/x-python",
   "name": "python",
   "nbconvert_exporter": "python",
   "pygments_lexer": "ipython3",
   "version": "3.10.13"
  }
 },
 "nbformat": 4,
 "nbformat_minor": 5
}
